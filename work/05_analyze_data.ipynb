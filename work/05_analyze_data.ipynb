{
 "cells": [
  {
   "cell_type": "markdown",
   "metadata": {},
   "source": [
    "**handson用資料としての注意点**\n",
    "\n",
    "普通、同じセル上で何度も試行錯誤するので、最終的に上手くいったセルしか残らず、失敗したセルは残りませんし、わざわざ残しません。\n",
    "\n",
    "今回はhandson用に 試行・思考過程を残したいと思い、エラーやミスが出ても下のセルに進んで処理を実行するようにしています。\n",
    "\n",
    "notebookのセル単位の実行ができるからこそのやり方かもしれません。良い。\n",
    "\n",
    "（下のセルから文は常体で書きます。）\n",
    "\n",
    "kunai (@jdgthjdg)\n",
    "\n",
    "---\n"
   ]
  },
  {
   "cell_type": "code",
   "execution_count": null,
   "metadata": {},
   "outputs": [],
   "source": [
    "%matplotlib inline\n",
    "import matplotlib.pyplot as plt\n",
    "import japanize_matplotlib\n",
    "import pandas as pd\n",
    "import numpy as np\n",
    "import qgrid\n",
    "#設定でDataFrameなどが長く表示されないようにします（画面領域の消費を抑えてhandsonをしやすくするため）\n",
    "# 長い場合の途中の省略表示(...)を出す閾値の設定（折り返しとは無関係）\n",
    "pd.set_option('max_rows',10)\n",
    "pd.set_option('max_columns',20) # これを超えたら全部は表示しない。 A B C ... X Y Z のように途中を省く。"
   ]
  },
  {
   "cell_type": "code",
   "execution_count": null,
   "metadata": {},
   "outputs": [],
   "source": [
    "kafun = pd.read_pickle(\"kafun04.pkl\")\n",
    "kafun.head()"
   ]
  },
  {
   "cell_type": "markdown",
   "metadata": {},
   "source": [
    "## qgrid が便利"
   ]
  },
  {
   "cell_type": "code",
   "execution_count": null,
   "metadata": {},
   "outputs": [],
   "source": [
    "qgrid.show_grid(kafun)"
   ]
  },
  {
   "cell_type": "markdown",
   "metadata": {},
   "source": [
    "---\n",
    "\n",
    "## dfを感じる"
   ]
  },
  {
   "cell_type": "code",
   "execution_count": null,
   "metadata": {},
   "outputs": [],
   "source": [
    "kafun.describe()"
   ]
  },
  {
   "cell_type": "markdown",
   "metadata": {},
   "source": [
    "<br>\n",
    "<br>\n",
    "<br>\n",
    "\n",
    "奈良から強いパワーを感じる\n",
    "\n",
    "京都も不穏\n",
    "<br>\n",
    "<br>\n"
   ]
  },
  {
   "cell_type": "markdown",
   "metadata": {},
   "source": [
    "---\n",
    "\n",
    "\n",
    "## datetime を indexにしておくと便利な機能が多い\n",
    "\n",
    "- df.loc[\"2018\"]  \n",
    "- df.loc[\"2018/04\"]  \n",
    "- df.loc[\"2013\":\"2015\"]  "
   ]
  },
  {
   "cell_type": "code",
   "execution_count": null,
   "metadata": {},
   "outputs": [],
   "source": [
    "kafun.loc[\"2013\":\"2015\"]"
   ]
  },
  {
   "cell_type": "code",
   "execution_count": null,
   "metadata": {},
   "outputs": [],
   "source": [
    "kafun.loc[\"2018/03/15 19:00:00\":\"2018/3/15 21\"] # 雑なフォーマットでも気が利く"
   ]
  },
  {
   "cell_type": "markdown",
   "metadata": {},
   "source": [
    "---\n",
    "\n",
    "# groupby でいろいろな軸から集計してみる\n",
    "<br>\n",
    "\n",
    "## 注) : groupby は、pandasにおいてかなり大事な機能だが、\n",
    "## 解説にはそれなりの時間がかかってしまうため、今回はgroupbyでできることの雰囲気を紹介"
   ]
  },
  {
   "cell_type": "markdown",
   "metadata": {},
   "source": [
    "---\n",
    "\n",
    "## 全データを 0-23時の軸で集計( median )"
   ]
  },
  {
   "cell_type": "markdown",
   "metadata": {},
   "source": [
    "### lambda式を使って、dfの列に無い、オリジナルのgroupを作る"
   ]
  },
  {
   "cell_type": "code",
   "execution_count": null,
   "metadata": {},
   "outputs": [],
   "source": [
    "kafun.groupby(lambda x:x.hour).median().plot(figsize=(20,9));"
   ]
  },
  {
   "cell_type": "markdown",
   "metadata": {},
   "source": [
    "## 全データを年ごとにざっくり集計( median )"
   ]
  },
  {
   "cell_type": "code",
   "execution_count": null,
   "metadata": {},
   "outputs": [],
   "source": [
    "kafun.groupby(lambda x:x.year).median().plot(figsize=(20,9));"
   ]
  },
  {
   "cell_type": "markdown",
   "metadata": {},
   "source": [
    "## weekofyear（週番号 1-52）や weekday(曜日の数値),weekday_name(曜日名) とかも知ってると便利"
   ]
  },
  {
   "cell_type": "code",
   "execution_count": null,
   "metadata": {},
   "outputs": [],
   "source": [
    "kafun.groupby(lambda x:x.weekday_name).sum().plot(figsize=(20,9), legend=True);"
   ]
  },
  {
   "cell_type": "code",
   "execution_count": null,
   "metadata": {},
   "outputs": [],
   "source": [
    "kafun.groupby(lambda x:x.weekofyear).sum().plot(figsize=(20,9), legend=True);"
   ]
  },
  {
   "cell_type": "markdown",
   "metadata": {},
   "source": [
    "---\n",
    "\n",
    "# 年と月を含む独自のgroupを作る\n",
    "\n",
    "2016年4月 → 201604 とか。\n",
    "\n",
    "### year *100 + month にすれば単純にあらわせる"
   ]
  },
  {
   "cell_type": "code",
   "execution_count": null,
   "metadata": {},
   "outputs": [],
   "source": [
    "kafun.groupby(lambda x:x.year*100+x.month).median().plot(figsize=(20,7));"
   ]
  },
  {
   "cell_type": "markdown",
   "metadata": {},
   "source": [
    "### 数値のままだと、途中の多くな空欄になるので上記のようなグラフ\n",
    "### stringにしてしまうことで、数値のような連続的じゃない、ただのラベルということにする。"
   ]
  },
  {
   "cell_type": "code",
   "execution_count": null,
   "metadata": {},
   "outputs": [],
   "source": [
    "kafun.groupby(lambda x:str(x.year*100+x.month)).median().plot(figsize=(20,7));"
   ]
  },
  {
   "cell_type": "markdown",
   "metadata": {},
   "source": [
    "---\n",
    "\n",
    "\n",
    "# 複雑なgroupbyもちょっと紹介"
   ]
  },
  {
   "cell_type": "markdown",
   "metadata": {},
   "source": [
    "## 各拠点の、毎年3月の 0-23時の分布(平均)を出す。\n",
    "\n",
    "1. 毎年の3月を抜き出す\n",
    "1. 0-23時の平均\n",
    "\n",
    "<br>\n",
    "\n",
    "### loc[ bool の配列 ] で絞る"
   ]
  },
  {
   "cell_type": "code",
   "execution_count": null,
   "metadata": {},
   "outputs": [],
   "source": [
    "march = kafun.loc[kafun.index.month==3]\n",
    "march"
   ]
  },
  {
   "cell_type": "markdown",
   "metadata": {},
   "source": [
    "\n",
    "##  query も良い。 \n",
    "\n",
    "####  \\[　\\] や　\" \"　の記述が少なくて簡潔に書けるので楽。\n",
    "#### 複雑な絞りのパターンであるほど、評価が一回でまとめて行われるため処理としても少し速いとか（docに書いてあった気がするが、うろ覚え・・・）\n",
    "\n",
    "\n",
    "<br>\n"
   ]
  },
  {
   "cell_type": "code",
   "execution_count": null,
   "metadata": {},
   "outputs": [],
   "source": [
    "march = kafun.query(\"index.dt.month==3\")  # いつもは不要だが、columns みたいに indexにもdtが必要\n",
    "march"
   ]
  },
  {
   "cell_type": "code",
   "execution_count": null,
   "metadata": {},
   "outputs": [],
   "source": [
    "march.groupby(lambda x:x.hour).median().plot(figsize=(20,7));"
   ]
  },
  {
   "cell_type": "markdown",
   "metadata": {},
   "source": [
    "---\n",
    "\n",
    "# さらに、年ごとにわけて表示する ( groupby が大好きな人用 )\n",
    "\n",
    "* gruops\n",
    "* get_group\n",
    "\n",
    "を使いこなす"
   ]
  },
  {
   "cell_type": "code",
   "execution_count": null,
   "metadata": {},
   "outputs": [],
   "source": [
    "group_year = march.groupby(lambda x:x.year)"
   ]
  },
  {
   "cell_type": "markdown",
   "metadata": {},
   "source": [
    ".groups で groupby した時の key と 対応する indexが取れる"
   ]
  },
  {
   "cell_type": "code",
   "execution_count": null,
   "metadata": {},
   "outputs": [],
   "source": [
    "group_year.groups"
   ]
  },
  {
   "cell_type": "markdown",
   "metadata": {},
   "source": [
    "## group名と、get_gropupを使うと 該当のdfが取得できる！\n",
    "\n",
    "### 小ネタ agg/aggregate なら集計関数をstringで指定できるので、 グラフのtitleと変数を統一できて、あとあとミスりにくい。"
   ]
  },
  {
   "cell_type": "code",
   "execution_count": null,
   "metadata": {},
   "outputs": [],
   "source": [
    "agg_func_name = \"mean\"\n",
    "for gr_name, year_kafun_index  in group_year.groups.items():\n",
    "    #print(gr_name,year_kafun)\n",
    "    year_kafun = group_year.get_group(gr_name)\n",
    "    year_kafun.groupby(lambda x:x.hour).agg(agg_func_name).plot(\n",
    "        figsize=(20,3), \n",
    "        title=str(gr_name)+\"/03  hourly kafun (\"+agg_func_name+\")\");\n",
    "    plt.show(); # plot の確定を明示的にした。\n"
   ]
  },
  {
   "cell_type": "markdown",
   "metadata": {},
   "source": [
    "---\n",
    "\n",
    "\n",
    "# 毎 \"時\"  を   毎 \"日\"　に落とす down sampling ( hourly -> daily )\n",
    "### datetime が index である必要がある。\n",
    "\n",
    "type(df.index) が DatetimeIndex (pandas.core.indexes.datetimes.DatetimeIndex) ならOK "
   ]
  },
  {
   "cell_type": "code",
   "execution_count": null,
   "metadata": {},
   "outputs": [],
   "source": [
    "type(kafun.index)"
   ]
  },
  {
   "cell_type": "code",
   "execution_count": null,
   "metadata": {},
   "outputs": [],
   "source": [
    "daily_resampler = kafun.resample(\"1D\") # D, 24h でもOK \n",
    "daily_resampler"
   ]
  },
  {
   "cell_type": "markdown",
   "metadata": {},
   "source": [
    "### どんな値を抽出するかの集計の式:  sum, mean, median, first, last, ..."
   ]
  },
  {
   "cell_type": "code",
   "execution_count": null,
   "metadata": {},
   "outputs": [],
   "source": [
    "daily_resampler.first() # head(1) みたいなもの、ここでは、0時になる。 逆に last() なら 23時の値"
   ]
  },
  {
   "cell_type": "markdown",
   "metadata": {},
   "source": [
    "# 平均で集計"
   ]
  },
  {
   "cell_type": "code",
   "execution_count": null,
   "metadata": {},
   "outputs": [],
   "source": [
    "daily_resampler.mean().plot(figsize=(20,8));"
   ]
  },
  {
   "cell_type": "markdown",
   "metadata": {},
   "source": [
    "<br>\n",
    "<br>\n",
    "<br>\n",
    "<br>\n",
    "<br>\n",
    "\n",
    "# 結論：花粉辛い。\n",
    "### [奈良(吉野保健所)](https://goo.gl/maps/ePz4zeezduR2) はすごい。 （意外に、衛星写真は山だらけでもない。）\n",
    "\n",
    "<br>\n",
    "<br>\n",
    "<br>\n",
    "<br>\n"
   ]
  }
 ],
 "metadata": {
  "kernelspec": {
   "display_name": "Python 3",
   "language": "python",
   "name": "python3"
  },
  "language_info": {
   "codemirror_mode": {
    "name": "ipython",
    "version": 3
   },
   "file_extension": ".py",
   "mimetype": "text/x-python",
   "name": "python",
   "nbconvert_exporter": "python",
   "pygments_lexer": "ipython3",
   "version": "3.7.1"
  }
 },
 "nbformat": 4,
 "nbformat_minor": 2
}
