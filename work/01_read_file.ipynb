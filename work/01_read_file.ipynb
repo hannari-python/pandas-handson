{
 "cells": [
  {
   "cell_type": "markdown",
   "metadata": {},
   "source": [
    "**handson用資料としての注意点**\n",
    "\n",
    "普通、同じセル上で何度も試行錯誤するので、最終的に上手くいったセルしか残らず、失敗したセルは残りませんし、わざわざ残しません。\n",
    "\n",
    "今回はhandson用に 試行・思考過程を残したいと思い、エラーやミスが出ても下のセルに進んで処理を実行するようにしています。\n",
    "\n",
    "notebookのセル単位の実行ができるからこそのやり方かもしれません。良い。\n",
    "\n",
    "（下のセルから文は常体で書きます。）\n",
    "\n",
    "kunai (@jdgthjdg)\n",
    "\n",
    "---\n"
   ]
  },
  {
   "cell_type": "code",
   "execution_count": null,
   "metadata": {},
   "outputs": [],
   "source": [
    "import sys;print(sys.version)"
   ]
  },
  {
   "cell_type": "code",
   "execution_count": null,
   "metadata": {},
   "outputs": [],
   "source": [
    "%matplotlib inline\n",
    "import matplotlib.pyplot as plt\n",
    "import pandas as pd\n",
    "import numpy as np\n",
    "#設定でDataFrameなどが長く表示されないようにします（画面領域の消費を抑えてhandsonをしやすくするため）\n",
    "# 長い場合の途中の省略表示(...)を出す閾値の設定（折り返しとは無関係）\n",
    "pd.set_option('max_rows',10)\n",
    "pd.set_option('max_columns',20) # これを超えたら全部は表示しない。 A B C ... X Y Z のように途中を省く。"
   ]
  },
  {
   "cell_type": "code",
   "execution_count": null,
   "metadata": {},
   "outputs": [],
   "source": [
    "plt.rcParams[\"figure.figsize\"] = [18, 6]\n",
    "plt.rcParams['xtick.labelsize'] = 14 # 横軸のフォントサイズ\n",
    "plt.rcParams['ytick.labelsize'] = 14 # 縦軸のフォントサイズ"
   ]
  },
  {
   "cell_type": "code",
   "execution_count": null,
   "metadata": {},
   "outputs": [],
   "source": [
    "pwd"
   ]
  },
  {
   "cell_type": "code",
   "execution_count": null,
   "metadata": {},
   "outputs": [],
   "source": [
    "ls ../../../data"
   ]
  },
  {
   "cell_type": "code",
   "execution_count": null,
   "metadata": {},
   "outputs": [],
   "source": [
    "ls -lh ../../../data/2008_kansai/ #AMeDAS2008\\(è╓É╝\\).xls"
   ]
  },
  {
   "cell_type": "markdown",
   "metadata": {},
   "source": [
    "## **花粉ライブラリ**\n",
    "4. 「はなこさん」による過去データのダウンロード<BR> \n",
    "http://kafun.taiki.go.jp/library.html#4    "
   ]
  },
  {
   "cell_type": "markdown",
   "metadata": {},
   "source": [
    "---"
   ]
  },
  {
   "cell_type": "markdown",
   "metadata": {},
   "source": [
    "## エクセル(.xls/.xlsx) を読んでみる"
   ]
  },
  {
   "cell_type": "markdown",
   "metadata": {},
   "source": [
    "pandas なら pd.read_XXX系 (csv, excel, sqlなど) を使えばほぼOK\n",
    "\n",
    "非公式のサイトも良いですが、基本的に困ったら公式のドキュメントが良い。(結局こっちのが早くて確実だったり、知らないオプションを知る機会になる。自戒でもある。)  \n",
    "https://pandas.pydata.org/pandas-docs/stable/reference/api/pandas.read_excel.html\n",
    "    \n",
    "入出力系<BR>\n",
    "https://pandas.pydata.org/pandas-docs/stable/reference/io.html"
   ]
  },
  {
   "cell_type": "markdown",
   "metadata": {},
   "source": [
    "---\n",
    "\n",
    "試しに化けまくりのパスをコピペして入れてみる"
   ]
  },
  {
   "cell_type": "code",
   "execution_count": null,
   "metadata": {},
   "outputs": [],
   "source": [
    "df = pd.read_excel(\"../../../data/2008_kansai/ë╘ò▓âfü[â^2008(è╓É╝).xls\")\n",
    "df.head(3)"
   ]
  },
  {
   "cell_type": "markdown",
   "metadata": {},
   "source": [
    "<br>\n",
    "\n",
    "**読めた**"
   ]
  },
  {
   "cell_type": "markdown",
   "metadata": {},
   "source": [
    "---\n",
    "列名が **Unnamed: 1** とおかしい\n",
    "\n",
    "\n",
    "**エクセルで開いたファイル** と見比べると、一行目はこのデータの名前(花粉自動測定器による観測データ)だけを載せているようだ  \n",
    "\n",
    "なんとかならんかと公式ドキュメントを読む  \n",
    "https://pandas.pydata.org/pandas-docs/stable/reference/api/pandas.read_excel.html\n"
   ]
  },
  {
   "cell_type": "markdown",
   "metadata": {},
   "source": [
    ">header : int, list of int, default 0  \n",
    ">Row (0-indexed) to use for the column labels of the parsed DataFrame.  \n",
    ">If a list of integers is passed those row positions will be combined into a MultiIndex. Use None if there is no header.\n",
    " \n",
    "    とか  \n",
    "    \n",
    ">skiprows : list-like\n",
    ">Rows to skip at the beginning (0-indexed).\n",
    "\n",
    "skiprowsが楽そう"
   ]
  },
  {
   "cell_type": "code",
   "execution_count": null,
   "metadata": {},
   "outputs": [],
   "source": [
    "df = pd.read_excel(\"../../../data/2008_kansai/ë╘ò▓âfü[â^2008(è╓É╝).xls\", skiprows=1)\n",
    "df.head()"
   ]
  },
  {
   "cell_type": "markdown",
   "metadata": {},
   "source": [
    "ちゃんとしたヘッダーになった！"
   ]
  },
  {
   "cell_type": "markdown",
   "metadata": {},
   "source": [
    "---\n",
    "\n",
    "上の舞鶴のデータにある、 -9998 とかなんだ？？\n",
    "\n",
    "**一番右の列(Unnamed: 25)に結構大事なことが書いてある。。。**"
   ]
  },
  {
   "cell_type": "markdown",
   "metadata": {},
   "source": [
    "- -9998:降雪による欠測\n",
    "- -9997:黄砂による欠測\n",
    "- -9996:その他の欠測(前後の時間や周辺観測値と比較して不自然なデータ)\n",
    "- 空白:未観測または通信障害による欠測\n",
    "\n",
    "\n",
    "ちゃんと成形されてDBなどに保存されたデータなら、このような独自の列を使っての無理矢理のコメントはないが、  \n",
    "担当者が手作業でぽちぽちと打った、ぬくもりのあるエクセルには良くある。\n",
    "\n",
    "\n",
    "<br>\n",
    "<br>\n",
    "ぬくもりがあると、プログラムからはとても読みにくい・・・"
   ]
  },
  {
   "cell_type": "markdown",
   "metadata": {},
   "source": [
    "\n",
    "もうメモったので右の2列は邪魔なので消す。  \n",
    "邪魔なので消す。"
   ]
  },
  {
   "cell_type": "markdown",
   "metadata": {},
   "source": [
    "# pandasでの列選択\n",
    "---"
   ]
  },
  {
   "cell_type": "markdown",
   "metadata": {},
   "source": [
    " \n",
    "**列だけなら　df \\[ \"列名\" \\]　が一番手っ取り早い。**\n",
    "\n",
    "* 今回は列名というよりも右から2つという数値的な位置決めのが楽そう"
   ]
  },
  {
   "cell_type": "markdown",
   "metadata": {},
   "source": [
    "### **xy座標っぽい選択なら　df.iloc[ 行(y軸), 列(x軸) ] を使う**\n",
    "\n",
    "* 行は絞らないので、行部分は ' : '(全選択) で良い  \n",
    "例: df.iloc[:, 3]  \n",
    "例: df.iloc[3] # 二個目を省略すると行選択のみになる。列には ':' が入っているのと同等で全部が選択される。（pd.Series という型）\n",
    "\n",
    "* 行も列もそれぞれ複数指定ができる  \n",
    "例: df.iloc[:, [1,2] ]\n",
    "\n",
    "* スライスも使える\n",
    "例: df.iloc[2:4,:8]"
   ]
  },
  {
   "cell_type": "code",
   "execution_count": null,
   "metadata": {},
   "outputs": [],
   "source": [
    "df.head() # 選択前のdf"
   ]
  },
  {
   "cell_type": "code",
   "execution_count": null,
   "metadata": {},
   "outputs": [],
   "source": [
    "df.iloc[2] # 二個目を省略すると行選択"
   ]
  },
  {
   "cell_type": "code",
   "execution_count": null,
   "metadata": {},
   "outputs": [],
   "source": [
    "df.iloc[1, 3]  # x,yを指定して、要素一つを抜き出す"
   ]
  },
  {
   "cell_type": "code",
   "execution_count": null,
   "metadata": {},
   "outputs": [],
   "source": [
    "df.iloc[:3, [0,5] ]  # スライスやら、リストなどで複数指定"
   ]
  },
  {
   "cell_type": "markdown",
   "metadata": {},
   "source": [
    "---\n",
    "\n",
    "### 味のある右の2列を消す"
   ]
  },
  {
   "cell_type": "code",
   "execution_count": null,
   "metadata": {},
   "outputs": [],
   "source": [
    "df.head(2)"
   ]
  },
  {
   "cell_type": "code",
   "execution_count": null,
   "metadata": {},
   "outputs": [],
   "source": [
    "# スライスを使って左端から右の3列目までを選択\n",
    "df = df.iloc[:,:-2]\n",
    "df.head(3)"
   ]
  },
  {
   "cell_type": "markdown",
   "metadata": {},
   "source": [
    "---\n",
    "\n",
    "ちなみに・・・　2018年などは xlsx形式だが、 skiprows=1して、右2列が不要という形式は同じっぽい"
   ]
  },
  {
   "cell_type": "code",
   "execution_count": null,
   "metadata": {},
   "outputs": [],
   "source": [
    "df = pd.read_excel(\"../../../data/2018_kansai/ë╘ò▓âfü[â^2018(è╓É╝).xlsx\", )\n",
    "df.head(3)"
   ]
  },
  {
   "cell_type": "markdown",
   "metadata": {},
   "source": [
    "ここでも\n",
    "- -9998:降雪による欠測\n",
    "- -9997:黄砂による欠測\n",
    "- -9996:その他の欠測(前後の時間や周辺観測値と比較して不自然なデータ)\n",
    "- 空白:未観測または通信障害による欠測"
   ]
  },
  {
   "cell_type": "markdown",
   "metadata": {},
   "source": [
    "***\n",
    "\n",
    "## ついでに、AMeDASのデータも読んでみる"
   ]
  },
  {
   "cell_type": "code",
   "execution_count": null,
   "metadata": {},
   "outputs": [],
   "source": [
    "ame_path = \"../../../data/2008_kansai/AMeDAS2008(è╓É╝).xls\"\n",
    "amedas = pd.read_excel(ame_path)\n",
    "amedas.head(3)"
   ]
  },
  {
   "cell_type": "code",
   "execution_count": null,
   "metadata": {},
   "outputs": [],
   "source": [
    "amedas.columns"
   ]
  },
  {
   "cell_type": "code",
   "execution_count": null,
   "metadata": {},
   "outputs": [],
   "source": [
    "amedas[\"彦根市役所\"].plot(figsize=(20,4));"
   ]
  },
  {
   "cell_type": "markdown",
   "metadata": {},
   "source": [
    "---\n",
    "\n",
    "複数のシートがあるのでそれも見る"
   ]
  },
  {
   "cell_type": "code",
   "execution_count": null,
   "metadata": {},
   "outputs": [],
   "source": [
    "amedas1 = pd.read_excel(ame_path, sheet_name=1)\n",
    "amedas1.head(3)\n"
   ]
  },
  {
   "cell_type": "code",
   "execution_count": null,
   "metadata": {},
   "outputs": [],
   "source": [
    "amedas2 = pd.read_excel(ame_path, sheet_name=2)\n",
    "amedas2.head(3)\n"
   ]
  },
  {
   "cell_type": "code",
   "execution_count": null,
   "metadata": {},
   "outputs": [],
   "source": [
    "amedas3 = pd.read_excel(ame_path, sheet_name=3)\n",
    "amedas3.head(3)\n"
   ]
  },
  {
   "cell_type": "code",
   "execution_count": null,
   "metadata": {},
   "outputs": [],
   "source": [
    "amedas4 = pd.read_excel(ame_path, sheet_name=4)\n",
    "amedas4.head(3)\n"
   ]
  },
  {
   "cell_type": "code",
   "execution_count": null,
   "metadata": {},
   "outputs": [],
   "source": [
    "amedas = pd.read_excel(ame_path, sheet_name=5)\n",
    "amedas.head(3)\n",
    "# IndexErrorが出てきたので、もう無い。　おわり"
   ]
  }
 ],
 "metadata": {
  "kernelspec": {
   "display_name": "Python 3",
   "language": "python",
   "name": "python3"
  },
  "language_info": {
   "codemirror_mode": {
    "name": "ipython",
    "version": 3
   },
   "file_extension": ".py",
   "mimetype": "text/x-python",
   "name": "python",
   "nbconvert_exporter": "python",
   "pygments_lexer": "ipython3",
   "version": "3.7.1"
  }
 },
 "nbformat": 4,
 "nbformat_minor": 2
}
