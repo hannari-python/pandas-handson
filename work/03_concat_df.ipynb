{
 "cells": [
  {
   "cell_type": "markdown",
   "metadata": {},
   "source": [
    "**handson用資料としての注意点**\n",
    "\n",
    "普通、同じセル上で何度も試行錯誤するので、最終的に上手くいったセルしか残らず、失敗したセルは残りませんし、わざわざ残しません。\n",
    "\n",
    "今回はhandson用に 試行・思考過程を残したいと思い、エラーやミスが出ても下のセルに進んで処理を実行するようにしています。\n",
    "\n",
    "notebookのセル単位の実行ができるからこそのやり方かもしれません。良い。\n",
    "\n",
    "（下のセルから文は常体で書きます。）\n",
    "\n",
    "kunai (@jdgthjdg)\n",
    "\n",
    "---\n"
   ]
  },
  {
   "cell_type": "markdown",
   "metadata": {},
   "source": [
    "# ここまでの処理を整理して、2008〜2019のデータを繋いでみる"
   ]
  },
  {
   "cell_type": "markdown",
   "metadata": {},
   "source": [
    "## xls,xlsxファイルを漁る"
   ]
  },
  {
   "cell_type": "code",
   "execution_count": null,
   "metadata": {},
   "outputs": [],
   "source": [
    "from pathlib import Path"
   ]
  },
  {
   "cell_type": "code",
   "execution_count": null,
   "metadata": {},
   "outputs": [],
   "source": [
    "base_dir = Path(\"../../../data\")\n",
    "base_dir.exists()"
   ]
  },
  {
   "cell_type": "code",
   "execution_count": null,
   "metadata": {},
   "outputs": [],
   "source": [
    "list(base_dir.glob(\"*_kansai/*\"))"
   ]
  },
  {
   "cell_type": "code",
   "execution_count": null,
   "metadata": {},
   "outputs": [],
   "source": [
    "p = list(base_dir.glob(\"*_kansai/*\"))[0]\n",
    "p.name"
   ]
  },
  {
   "cell_type": "code",
   "execution_count": null,
   "metadata": {},
   "outputs": [],
   "source": [
    "kansai_kafun_files = []\n",
    "for p in base_dir.glob(\"*_kansai/*\"):\n",
    "    # AMeDASだけ弾く\n",
    "    if not p.name.startswith(\"AMeDAS\"):\n",
    "        kansai_kafun_files.append(p)\n",
    "kansai_kafun_files"
   ]
  },
  {
   "cell_type": "markdown",
   "metadata": {},
   "source": [
    "lock ファイルが混じってしまった。<BR>\n",
    "AMeDASだけ弾くと .lockファイルも入ってしまうので、<br>\n",
    "試しに **読めない文字 ( ë╘ò▓âfü[â )** で引っ掛けてみる"
   ]
  },
  {
   "cell_type": "code",
   "execution_count": null,
   "metadata": {},
   "outputs": [],
   "source": [
    "kansai_kafun_files = []\n",
    "for p in base_dir.glob(\"*_kansai/*\"):\n",
    "    # AMeDASだけ弾くと .lockファイルも入ってしまうので、読めない謎の文字で引っ掛けてみる\n",
    "    if p.name.startswith(\"ë╘ò▓âfü[â\"):\n",
    "        kansai_kafun_files.append(p)\n",
    "kansai_kafun_files"
   ]
  },
  {
   "cell_type": "markdown",
   "metadata": {},
   "source": [
    "いけた"
   ]
  },
  {
   "cell_type": "markdown",
   "metadata": {},
   "source": [
    "ソートしてもいいけど、どのみち日付データはとるのでこのまま"
   ]
  },
  {
   "cell_type": "markdown",
   "metadata": {},
   "source": [
    "---"
   ]
  },
  {
   "cell_type": "markdown",
   "metadata": {},
   "source": [
    "# 今までの処理を適用していく"
   ]
  },
  {
   "cell_type": "code",
   "execution_count": null,
   "metadata": {},
   "outputs": [],
   "source": [
    "%matplotlib inline\n",
    "import matplotlib.pyplot as plt\n",
    "import pandas as pd\n",
    "import numpy as np\n",
    "#設定でDataFrameなどが長く表示されないようにします（画面領域の消費を抑えてhandsonをしやすくするため）\n",
    "# 長い場合の途中の省略表示(...)を出す閾値の設定（折り返しとは無関係）\n",
    "pd.set_option('max_rows',10)\n",
    "pd.set_option('max_columns',20) # これを超えたら全部は表示しない。 A B C ... X Y Z のように途中を省く。"
   ]
  },
  {
   "cell_type": "code",
   "execution_count": null,
   "metadata": {},
   "outputs": [],
   "source": [
    "p = kansai_kafun_files[-1]\n",
    "print(p) # for の残りかす\n",
    "df = pd.read_excel(p, skiprows=1).iloc[:,:-2]\n",
    "df"
   ]
  },
  {
   "cell_type": "code",
   "execution_count": null,
   "metadata": {},
   "outputs": [],
   "source": [
    "str_concat_h0_23 = df[\"年\"].astype(str)+\"/\"+df[\"月\"].astype(str)+\"/\"+df[\"日\"].astype(str)+\"/\"+(df[\"時\"]-1).astype(str) # 時から1引いてる\n",
    "df[\"date_hour\"] = pd.to_datetime(str_concat_h0_23, format=\"%Y/%m/%d/%H\")\n",
    "df.set_index(\"date_hour\", inplace=True)\n",
    "df = df.drop(columns=[\"年\",\"月\",\"日\",\"時\",]) # こっちでも全然良い\n",
    "df"
   ]
  },
  {
   "cell_type": "markdown",
   "metadata": {},
   "source": [
    "# ここまでを関数にする"
   ]
  },
  {
   "cell_type": "markdown",
   "metadata": {},
   "source": [
    "多くの試行錯誤があったがこれだけのコードに圧縮された・・・"
   ]
  },
  {
   "cell_type": "code",
   "execution_count": null,
   "metadata": {},
   "outputs": [],
   "source": [
    "def load_kafun_excel(path):\n",
    "    df = pd.read_excel(path, skiprows=1).iloc[:,:-2]\n",
    "    str_concat_h0_23 = df[\"年\"].astype(str)+\"/\"+df[\"月\"].astype(str)+\"/\"+df[\"日\"].astype(str)+\"/\"+(df[\"時\"]-1).astype(str) # 時から1引いてる\n",
    "    df[\"date_hour\"] = pd.to_datetime(str_concat_h0_23, format=\"%Y/%m/%d/%H\")\n",
    "    df.set_index(\"date_hour\", inplace=True)\n",
    "    df = df.drop(columns=[\"年\",\"月\",\"日\",\"時\",]) # こっちでも全然良い\n",
    "    return df"
   ]
  },
  {
   "cell_type": "code",
   "execution_count": null,
   "metadata": {},
   "outputs": [],
   "source": [
    "load_kafun_excel(p)"
   ]
  },
  {
   "cell_type": "markdown",
   "metadata": {},
   "source": [
    "## for文で回す 安心の有限"
   ]
  },
  {
   "cell_type": "code",
   "execution_count": null,
   "metadata": {},
   "outputs": [],
   "source": [
    "kafun_df_list = []\n",
    "for p in kansai_kafun_files:\n",
    "    df = load_kafun_excel(p)\n",
    "    kafun_df_list.append(df)"
   ]
  },
  {
   "cell_type": "code",
   "execution_count": null,
   "metadata": {},
   "outputs": [],
   "source": [
    "kafun_df_list[0]"
   ]
  },
  {
   "cell_type": "markdown",
   "metadata": {},
   "source": [
    "# リスト内のdfを行方向(縦方向, y方向)に連結する"
   ]
  },
  {
   "cell_type": "markdown",
   "metadata": {},
   "source": [
    "**[pd.concat](https://pandas.pydata.org/pandas-docs/stable/reference/api/pandas.concat.html)**\n",
    "\n",
    "df の連結/結合/マージ  \n",
    "http://pandas.pydata.org/pandas-docs/stable/user_guide/merging.html\n"
   ]
  },
  {
   "cell_type": "code",
   "execution_count": null,
   "metadata": {},
   "outputs": [],
   "source": [
    "kafun = pd.concat(kafun_df_list, axis=1)\n",
    "kafun.shape"
   ]
  },
  {
   "cell_type": "code",
   "execution_count": null,
   "metadata": {},
   "outputs": [],
   "source": [
    "kafun.columns"
   ]
  },
  {
   "cell_type": "markdown",
   "metadata": {},
   "source": [
    "<br>\n",
    "ミスってcolumnsの数が成長した。横方向につながっている  \n",
    "<br>\n",
    "<br>"
   ]
  },
  {
   "cell_type": "code",
   "execution_count": null,
   "metadata": {},
   "outputs": [],
   "source": [
    "kafun = pd.concat(kafun_df_list, axis=0)  # Warning"
   ]
  },
  {
   "cell_type": "markdown",
   "metadata": {},
   "source": [
    "warning された。 今後ソートしないとのこと"
   ]
  },
  {
   "cell_type": "code",
   "execution_count": null,
   "metadata": {},
   "outputs": [],
   "source": [
    "kafun = pd.concat(kafun_df_list, axis=0, sort=False)\n",
    "kafun.shape"
   ]
  },
  {
   "cell_type": "markdown",
   "metadata": {},
   "source": [
    "このaxis方向でも columns が倍くらいに増えている・・・"
   ]
  },
  {
   "cell_type": "code",
   "execution_count": null,
   "metadata": {},
   "outputs": [],
   "source": [
    "kafun.columns"
   ]
  },
  {
   "cell_type": "markdown",
   "metadata": {},
   "source": [
    "恐らく年が変わった時に列の名前が変わったようだ（多分担当者も）   \n",
    "データのフォーマットが変わると、恐ろしく面倒なことが起きる・・・"
   ]
  },
  {
   "cell_type": "code",
   "execution_count": null,
   "metadata": {},
   "outputs": [],
   "source": [
    "kafun_df_list[0].columns"
   ]
  },
  {
   "cell_type": "code",
   "execution_count": null,
   "metadata": {},
   "outputs": [],
   "source": [
    "kafun_df_list[1].columns"
   ]
  },
  {
   "cell_type": "markdown",
   "metadata": {},
   "source": [
    "# 想像以上に全然違う・・・\n",
    "\n",
    "ファイル名をみる"
   ]
  },
  {
   "cell_type": "code",
   "execution_count": null,
   "metadata": {},
   "outputs": [],
   "source": [
    "kansai_kafun_files[0].name"
   ]
  },
  {
   "cell_type": "code",
   "execution_count": null,
   "metadata": {},
   "outputs": [],
   "source": [
    "kansai_kafun_files[1].name"
   ]
  },
  {
   "cell_type": "markdown",
   "metadata": {},
   "source": [
    "xlsとxlsxの頃から変わったのかも？　とりあえず ロードした時にcolumnsを表示する雑な関数を作って試す"
   ]
  },
  {
   "cell_type": "code",
   "execution_count": null,
   "metadata": {},
   "outputs": [],
   "source": [
    "def show_columns(path):\n",
    "    df = pd.read_excel(path, skiprows=1).iloc[:,:-2]\n",
    "    return df.columns"
   ]
  },
  {
   "cell_type": "code",
   "execution_count": null,
   "metadata": {},
   "outputs": [],
   "source": [
    "for p in kansai_kafun_files:\n",
    "    print(p, show_columns(p))"
   ]
  },
  {
   "cell_type": "markdown",
   "metadata": {},
   "source": [
    "<br>\n",
    "年が順不同で見にくいので結局ソートしてみる"
   ]
  },
  {
   "cell_type": "code",
   "execution_count": null,
   "metadata": {},
   "outputs": [],
   "source": [
    "sorted(kansai_kafun_files) "
   ]
  },
  {
   "cell_type": "markdown",
   "metadata": {},
   "source": [
    "---\n",
    "**もしソートがうまくいかないパスだったら sorted の key=を設定する**"
   ]
  },
  {
   "cell_type": "code",
   "execution_count": null,
   "metadata": {},
   "outputs": [],
   "source": [
    "p.name[10:14]  # ファイル名から年を抜き出すスライスがこれだった"
   ]
  },
  {
   "cell_type": "code",
   "execution_count": null,
   "metadata": {},
   "outputs": [],
   "source": [
    "# フォルダ名にかかわらず、ファイル名の 20xx で数値のソートされる\n",
    "sorted(kansai_kafun_files, key=lambda x:int(x.name[10:14]))"
   ]
  },
  {
   "cell_type": "code",
   "execution_count": null,
   "metadata": {},
   "outputs": [],
   "source": [
    "sorted(kansai_kafun_files, key=lambda x: (-1)*int(x.name[10:14]))  # マイナスにすれば逆になるのが分かる"
   ]
  },
  {
   "cell_type": "markdown",
   "metadata": {},
   "source": [
    "<br>\n",
    "ソート後にまた columns を見る"
   ]
  },
  {
   "cell_type": "code",
   "execution_count": null,
   "metadata": {},
   "outputs": [],
   "source": [
    "for p in sorted(kansai_kafun_files):\n",
    "    print(p, show_columns(p))"
   ]
  },
  {
   "cell_type": "markdown",
   "metadata": {},
   "source": [
    "---\n",
    "2015年にxlsxに変わった途端に・・・<br>\n",
    "\n",
    "これでは元データのエクセルか、ウェブページの注釈的なものを探さないと追跡ができない  \n",
    "\n",
    "もういちどエクセルを見てみると、  \n",
    "古いデータには、 \"地点\" という別のシートがあった！"
   ]
  },
  {
   "cell_type": "markdown",
   "metadata": {},
   "source": [
    "sheet_nameには文字列以外にもindexが使えるとdocumentに書いてあった。  \n",
    "誰かのブログをコピってるだけだったら気づけなかったかもしれない。（自戒）"
   ]
  },
  {
   "cell_type": "code",
   "execution_count": null,
   "metadata": {},
   "outputs": [],
   "source": [
    "names = pd.read_excel(\"../../../data/2008_kansai/ë╘ò▓âfü[â^2008(è╓É╝).xls\", sheet_name=1)\n",
    "names"
   ]
  },
  {
   "cell_type": "markdown",
   "metadata": {},
   "source": [
    "## 列名をrenameするmapperを作る\n",
    "\n",
    "ここからは適当にメソッドを探して対処していくしかない。。  \n",
    "pandas力が試される・・・\n",
    "\n",
    "mappingするなら辞書が良いから辞書っぽいのを探す"
   ]
  },
  {
   "cell_type": "code",
   "execution_count": null,
   "metadata": {},
   "outputs": [],
   "source": [
    "names[\"地点名\"].to_dict()"
   ]
  },
  {
   "cell_type": "markdown",
   "metadata": {},
   "source": [
    "<br>\n",
    "key:value が index:列の値 となるdictができたので、index を \"地点名\" 列にして、\"施設名\" との .to_dictすれば良さそう"
   ]
  },
  {
   "cell_type": "code",
   "execution_count": null,
   "metadata": {},
   "outputs": [],
   "source": [
    "rename_mapper = names.set_index(\"地点名\")[\"施設名\"].to_dict()\n",
    "rename_mapper"
   ]
  },
  {
   "cell_type": "markdown",
   "metadata": {},
   "source": [
    "これ。きた。"
   ]
  },
  {
   "cell_type": "code",
   "execution_count": null,
   "metadata": {},
   "outputs": [],
   "source": [
    "df.rename(columns=rename_mapper).head(1)\n",
    "# OK"
   ]
  },
  {
   "cell_type": "markdown",
   "metadata": {},
   "source": [
    "関数に埋め込む"
   ]
  },
  {
   "cell_type": "code",
   "execution_count": null,
   "metadata": {},
   "outputs": [],
   "source": [
    "def load_kafun_excel_renamed_columns(path):\n",
    "    df = pd.read_excel(path, skiprows=1).iloc[:,:-2]\n",
    "    try:\n",
    "        name = pd.read_excel(path, sheet_name=1)\n",
    "        rename_mapper = names.set_index(\"地点名\")[\"施設名\"].to_dict()\n",
    "        df = df.rename(columns=rename_mapper)\n",
    "        \n",
    "    except Exception as e:\n",
    "        print(path, e)\n",
    "    \n",
    "    str_concat_h0_23 = df[\"年\"].astype(str)+\"/\"+df[\"月\"].astype(str)+\"/\"+df[\"日\"].astype(str)+\"/\"+(df[\"時\"]-1).astype(str) # 時から1引いてる\n",
    "    df[\"date_hour\"] = pd.to_datetime(str_concat_h0_23, format=\"%Y/%m/%d/%H\")\n",
    "    df.set_index(\"date_hour\", inplace=True)\n",
    "    df = df.drop(columns=[\"年\",\"月\",\"日\",\"時\",]) # こっちでも全然良い\n",
    "    return df"
   ]
  },
  {
   "cell_type": "code",
   "execution_count": null,
   "metadata": {},
   "outputs": [],
   "source": [
    "kafun_df_list = []\n",
    "for p in sorted(kansai_kafun_files):\n",
    "    df = load_kafun_excel_renamed_columns(p)\n",
    "    kafun_df_list.append(df)\n",
    "kafun_renamed = pd.concat(kafun_df_list, axis=0, sort=False)\n",
    "kafun_renamed.shape"
   ]
  },
  {
   "cell_type": "markdown",
   "metadata": {},
   "source": [
    "xlsxだけエラーになってくれてるのでxlsでは読み込めているようだ\n",
    "\n",
    "果たして結果は？"
   ]
  },
  {
   "cell_type": "code",
   "execution_count": null,
   "metadata": {},
   "outputs": [],
   "source": [
    "kafun_renamed.columns"
   ]
  },
  {
   "cell_type": "markdown",
   "metadata": {},
   "source": [
    "---\n",
    "似た名前を探すためにソートしてみる"
   ]
  },
  {
   "cell_type": "code",
   "execution_count": null,
   "metadata": {},
   "outputs": [],
   "source": [
    "kafun_renamed.columns.sort_values()"
   ]
  },
  {
   "cell_type": "markdown",
   "metadata": {},
   "source": [
    "---\n",
    "\n",
    "**'北山緑化植物園','北山緑化植物園（西宮市都市整備公社）'**\n",
    "\n",
    "**'西播磨', '西播磨県民局西播磨総合庁舎'** とか同一では？  \n",
    "列名のゆらぎが・・・（予想はしていたがこれを全部追うのは大変なので今回はパス！）"
   ]
  },
  {
   "cell_type": "markdown",
   "metadata": {},
   "source": [
    "ここでHPをもう一度見てみると。  \n",
    "http://kafun.taiki.go.jp/library.html#4\n",
    "\n",
    ">彦根地方気象台\t彦根市城町２丁目５－２５\t彦根\t平成29年度に彦根市役所から移設  \n",
    ">舞鶴市西コミュニティセンター\t舞鶴市字南田辺１番地\t舞鶴\t平成29年度に京都府中丹東保健所より移設\n"
   ]
  },
  {
   "cell_type": "markdown",
   "metadata": {},
   "source": [
    "## 追っかけるのも大変、かつ、そこまでを求めていないため、今回は少ないデータも全部残して次へ進む"
   ]
  },
  {
   "cell_type": "markdown",
   "metadata": {},
   "source": [
    "---\n",
    "\n",
    "## （今回はしないが）もし少ないものを弾きたいなら\n",
    "\n",
    "全部の対応を探すのは流石に厳しそうなので、各列での NaNの値を数えてみて、NaNの値が少ないものは2008〜2018まで列名がつながっていると判断する"
   ]
  },
  {
   "cell_type": "markdown",
   "metadata": {},
   "source": [
    "**count()** がそれに当たる  \n",
    "**sort_values** でソートしている"
   ]
  },
  {
   "cell_type": "code",
   "execution_count": null,
   "metadata": {},
   "outputs": [],
   "source": [
    "kafun_renamed.count().sort_values(ascending=True).head(10)"
   ]
  },
  {
   "cell_type": "code",
   "execution_count": null,
   "metadata": {},
   "outputs": [],
   "source": [
    "kafun_renamed.count().sort_values(ascending=False).head(10) # Falseにしなくても、上のコードをtailにするだけでも良い"
   ]
  },
  {
   "cell_type": "markdown",
   "metadata": {},
   "source": [
    "---\n",
    "\n",
    "# 一旦ここまでのデータをpickleに保存\n",
    "\n",
    "ここまでの処理で生成したDataFrameをpickleで保存しておく。  \n",
    "pickle にしておくと読み込みも一瞬。  \n",
    "最初からcsvなどを読んで成形して・・・を行うコードを書かなくても良いので、一時的なセーブデータとしては重宝する！（日付のパースなどの処理をやり直さなくて良いので高速）"
   ]
  },
  {
   "cell_type": "code",
   "execution_count": null,
   "metadata": {},
   "outputs": [],
   "source": [
    "kafun_renamed.to_pickle(\"kafun03.pkl\")"
   ]
  },
  {
   "cell_type": "markdown",
   "metadata": {},
   "source": [
    "# 現状のデータをplotしてみる"
   ]
  },
  {
   "cell_type": "code",
   "execution_count": null,
   "metadata": {},
   "outputs": [],
   "source": [
    "kafun_renamed.京都府立医科大学.plot()"
   ]
  },
  {
   "cell_type": "code",
   "execution_count": null,
   "metadata": {},
   "outputs": [],
   "source": [
    "kafun_renamed.plot(legend=False)"
   ]
  },
  {
   "cell_type": "code",
   "execution_count": null,
   "metadata": {},
   "outputs": [],
   "source": [
    "kafun_renamed.tail()"
   ]
  },
  {
   "cell_type": "code",
   "execution_count": null,
   "metadata": {},
   "outputs": [],
   "source": []
  }
 ],
 "metadata": {
  "kernelspec": {
   "display_name": "Python 3",
   "language": "python",
   "name": "python3"
  },
  "language_info": {
   "codemirror_mode": {
    "name": "ipython",
    "version": 3
   },
   "file_extension": ".py",
   "mimetype": "text/x-python",
   "name": "python",
   "nbconvert_exporter": "python",
   "pygments_lexer": "ipython3",
   "version": "3.7.1"
  }
 },
 "nbformat": 4,
 "nbformat_minor": 2
}
