{
 "cells": [
  {
   "cell_type": "markdown",
   "metadata": {},
   "source": [
    "**handson用資料としての注意点**\n",
    "\n",
    "普通、同じセル上で何度も試行錯誤するので、最終的に上手くいったセルしか残らず、失敗したセルは残りませんし、わざわざ残しません。\n",
    "\n",
    "今回はhandson用に 試行・思考過程を残したいと思い、エラーやミスが出ても下のセルに進んで処理を実行するようにしています。\n",
    "\n",
    "notebookのセル単位の実行ができるからこそのやり方かもしれません。良い。\n",
    "\n",
    "（下のセルから文は常体で書きます。）\n",
    "\n",
    "kunai (@jdgthjdg)\n",
    "\n",
    "---\n"
   ]
  },
  {
   "cell_type": "markdown",
   "metadata": {},
   "source": [
    "preprocess(前処理) というタイトル、今までのは pre-preprocess"
   ]
  },
  {
   "cell_type": "code",
   "execution_count": null,
   "metadata": {},
   "outputs": [],
   "source": [
    "%matplotlib inline\n",
    "import matplotlib.pyplot as plt\n",
    "import japanize_matplotlib\n",
    "import pandas as pd\n",
    "import numpy as np\n",
    "import qgrid\n",
    "#設定でDataFrameなどが長く表示されないようにします（画面領域の消費を抑えてhandsonをしやすくするため）\n",
    "# 長い場合の途中の省略表示(...)を出す閾値の設定（折り返しとは無関係）\n",
    "pd.set_option('max_rows',10)\n",
    "pd.set_option('max_columns',20) # これを超えたら全部は表示しない。 A B C ... X Y Z のように途中を省く。"
   ]
  },
  {
   "cell_type": "markdown",
   "metadata": {},
   "source": [
    "ここまでの処理で生成したDataFrameをpickleで保存したのでそれを読む  \n",
    "pickle にしておくと読み込みも一瞬。  \n",
    "最初からcsvなどを読んで成形して・・・を行うコードを書かなくても良いので、一時的なセーブデータとしては重宝する！（日付のパースなどをやり直さなくて良いので高速）"
   ]
  },
  {
   "cell_type": "code",
   "execution_count": null,
   "metadata": {},
   "outputs": [],
   "source": [
    "kafun = pd.read_pickle(\"kafun03.pkl\")\n",
    "kafun.head()"
   ]
  },
  {
   "cell_type": "code",
   "execution_count": null,
   "metadata": {},
   "outputs": [],
   "source": [
    "kafun.tail()"
   ]
  },
  {
   "cell_type": "markdown",
   "metadata": {},
   "source": [
    "**もしかして、NaNしかない行が多い？**\n",
    "\n",
    "## 全部が NaN の行を消去する。  "
   ]
  },
  {
   "cell_type": "markdown",
   "metadata": {},
   "source": [
    "[dropna](https://pandas.pydata.org/pandas-docs/stable/reference/api/pandas.DataFrame.dropna.html) を使う\n",
    "\n",
    "デフォルトでは axisで設定した方向の中に、一つでもNaNがあると消去されてしまう。how=\"any\"  \n",
    "ドキュメントを見る。"
   ]
  },
  {
   "cell_type": "code",
   "execution_count": null,
   "metadata": {},
   "outputs": [],
   "source": [
    "kafun = kafun.dropna(axis=0, how=\"all\")\n",
    "kafun.tail()"
   ]
  },
  {
   "cell_type": "markdown",
   "metadata": {},
   "source": [
    "---\n",
    "\n",
    "\n",
    "## データがNaNばかりの列を排除したい。\n",
    "#### 各列の非NaNのデータ数を数えてplotする"
   ]
  },
  {
   "cell_type": "code",
   "execution_count": null,
   "metadata": {},
   "outputs": [],
   "source": [
    "kafun.count().plot(figsize=(20,3));"
   ]
  },
  {
   "cell_type": "markdown",
   "metadata": {},
   "source": [
    "### 非NaNのデータ数が 25000以下の列にさようならをする"
   ]
  },
  {
   "cell_type": "markdown",
   "metadata": {},
   "source": [
    "どうやって絞るか？"
   ]
  },
  {
   "cell_type": "code",
   "execution_count": null,
   "metadata": {},
   "outputs": [],
   "source": [
    "kafun.count()>25000"
   ]
  },
  {
   "cell_type": "markdown",
   "metadata": {},
   "source": [
    "<br>\n",
    "\n",
    "###  これで取れるデータは・・・・\n",
    "<br>\n",
    "\n",
    "**columns ( 列 ) の bool 配列**\n",
    "<br>"
   ]
  },
  {
   "cell_type": "markdown",
   "metadata": {},
   "source": [
    "Columns/Rowsの bool によるの選択には loc が使える！"
   ]
  },
  {
   "cell_type": "code",
   "execution_count": null,
   "metadata": {},
   "outputs": [],
   "source": [
    "col_above_25k = kafun.count()>25000\n",
    "kafun.loc[:, col_above_25k]"
   ]
  },
  {
   "cell_type": "markdown",
   "metadata": {},
   "source": [
    "---\n",
    "\n",
    "### copy() して、新たなdfを作成する。\n",
    "#### copyをしないとコピー元データへの参照が残り・・・\n",
    "#### SettingWithCopyWarning となったら、対症療法的に .copy() を試してみる（乱暴）"
   ]
  },
  {
   "cell_type": "markdown",
   "metadata": {},
   "source": [
    "なぜcopyするのか。。。 SettingWithCopyWarning などで怒られる"
   ]
  },
  {
   "cell_type": "code",
   "execution_count": null,
   "metadata": {},
   "outputs": [],
   "source": [
    "kafun = kafun.loc[:, col_above_25k].copy()\n",
    "kafun.head() # すっきり"
   ]
  },
  {
   "cell_type": "markdown",
   "metadata": {},
   "source": [
    "---\n",
    "\n",
    "## NaNも0に変更する fillna()\n",
    "\n",
    "#### 異常値の扱い方は色々あるだろうが、今回はとりあえず、NaNも異常値(負値)も0にする  \n"
   ]
  },
  {
   "cell_type": "markdown",
   "metadata": {},
   "source": [
    "### [fillna()](https://pandas.pydata.org/pandas-docs/stable/reference/api/pandas.DataFrame.fillna.html)"
   ]
  },
  {
   "cell_type": "code",
   "execution_count": null,
   "metadata": {},
   "outputs": [],
   "source": [
    "kafun = kafun.fillna(0)\n",
    "kafun.head()"
   ]
  },
  {
   "cell_type": "markdown",
   "metadata": {},
   "source": [
    "---\n",
    "\n",
    "\n",
    "## 負の値を0に変更する\n",
    "\n",
    "<br>\n",
    "\n",
    "**忘れた頃に登場**\n",
    "\n",
    "- -9998:降雪による欠測\n",
    "- -9997:黄砂による欠測\n",
    "- -9996:その他の欠測(前後の時間や周辺観測値と比較して不自然なデータ)\n",
    "- 空白:未観測または通信障害による欠測\n",
    "\n",
    "<br>\n",
    "<br>\n",
    "\n",
    "負の値を0に実現する方法は色々あるが、  \n",
    "思いつきやすいのだと、 min/max系\n",
    "\n",
    "もっと楽なやり方はないか・・・  \n",
    "\n",
    "<br>\n",
    "<br>\n",
    "\n",
    "<br>\n",
    "\n",
    "ドキュメントを探していると・・・  \n",
    "\n",
    "### [clip()](https://pandas.pydata.org/pandas-docs/stable/reference/api/pandas.DataFrame.clip.html)\n",
    "\n",
    "<br>\n",
    "\n"
   ]
  },
  {
   "cell_type": "code",
   "execution_count": null,
   "metadata": {},
   "outputs": [],
   "source": [
    "kafun = kafun.clip(lower=0.0) # とてもらく\n",
    "kafun.head()"
   ]
  },
  {
   "cell_type": "markdown",
   "metadata": {},
   "source": [
    "### pickle にて保存"
   ]
  },
  {
   "cell_type": "code",
   "execution_count": null,
   "metadata": {},
   "outputs": [],
   "source": [
    "kafun.to_pickle(\"kafun04.pkl\")"
   ]
  },
  {
   "cell_type": "markdown",
   "metadata": {},
   "source": [
    "## グラフをみる"
   ]
  },
  {
   "cell_type": "code",
   "execution_count": null,
   "metadata": {},
   "outputs": [],
   "source": [
    "kafun.plot(figsize=(20,9), legend=True);"
   ]
  },
  {
   "cell_type": "markdown",
   "metadata": {},
   "source": [
    "2013年の奈良強すぎでは？\n",
    "\n",
    "<br>\n"
   ]
  },
  {
   "cell_type": "markdown",
   "metadata": {},
   "source": [
    "#### [plot()](https://pandas.pydata.org/pandas-docs/stable/reference/api/pandas.DataFrame.plot.html) のオプションも調べる\n"
   ]
  },
  {
   "cell_type": "code",
   "execution_count": null,
   "metadata": {},
   "outputs": [],
   "source": [
    "kafun.plot(figsize=(16,15), subplots=True);"
   ]
  }
 ],
 "metadata": {
  "kernelspec": {
   "display_name": "Python 3",
   "language": "python",
   "name": "python3"
  },
  "language_info": {
   "codemirror_mode": {
    "name": "ipython",
    "version": 3
   },
   "file_extension": ".py",
   "mimetype": "text/x-python",
   "name": "python",
   "nbconvert_exporter": "python",
   "pygments_lexer": "ipython3",
   "version": "3.7.1"
  }
 },
 "nbformat": 4,
 "nbformat_minor": 2
}
