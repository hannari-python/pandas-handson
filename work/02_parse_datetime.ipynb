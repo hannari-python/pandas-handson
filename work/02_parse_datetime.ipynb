{
 "cells": [
  {
   "cell_type": "markdown",
   "metadata": {},
   "source": [
    "**handson用資料としての注意点**\n",
    "\n",
    "普通、同じセル上で何度も試行錯誤するので、最終的に上手くいったセルしか残らず、失敗したセルは残りませんし、わざわざ残しません。\n",
    "\n",
    "今回はhandson用に 試行・思考過程を残したいと思い、エラーやミスが出ても下のセルに進んで処理を実行するようにしています。\n",
    "\n",
    "notebookのセル単位の実行ができるからこそのやり方かもしれません。良い。\n",
    "\n",
    "（下のセルから文は常体で書きます。）\n",
    "\n",
    "kunai (@jdgthjdg)\n",
    "\n",
    "---\n"
   ]
  },
  {
   "cell_type": "markdown",
   "metadata": {},
   "source": [
    "# datetime型 をindexにして時系列表示する\n",
    "\n",
    "（グラフにした時に、x軸が日付 2008/01/03 みたいになるようにする）"
   ]
  },
  {
   "cell_type": "code",
   "execution_count": null,
   "metadata": {},
   "outputs": [],
   "source": [
    "%matplotlib inline\n",
    "import matplotlib.pyplot as plt\n",
    "import pandas as pd\n",
    "import numpy as np\n",
    "#設定でDataFrameなどが長く表示されないようにします（画面領域の消費を抑えてhandsonをしやすくするため）\n",
    "# 長い場合の途中の省略表示(...)を出す閾値の設定（折り返しとは無関係）\n",
    "pd.set_option('max_rows',10)\n",
    "pd.set_option('max_columns',20) # これを超えたら全部は表示しない。 A B C ... X Y Z のように途中を省く。"
   ]
  },
  {
   "cell_type": "code",
   "execution_count": null,
   "metadata": {},
   "outputs": [],
   "source": [
    "df = pd.read_excel(\"../../../data/2008_kansai/ë╘ò▓âfü[â^2008(è╓É╝).xls\", skiprows=1).iloc[:,:-2]\n",
    "df.head(3)"
   ]
  },
  {
   "cell_type": "markdown",
   "metadata": {},
   "source": [
    "現状のグラフは下。  \n",
    "\n",
    "dfやseriesに .plot() で簡易な折れ線グラフができる。 \n",
    "\n",
    "y軸のマイナスの値はあとで修正する  \n",
    "x軸(index)は 0から振られた番号でしかない。  \n",
    "→ 何年のデータなのかが分からない。  "
   ]
  },
  {
   "cell_type": "code",
   "execution_count": null,
   "metadata": {},
   "outputs": [],
   "source": [
    "# 列(1つなので Series)の選択\n",
    "df[\"彦根\"]  # DataFrameではない。 Series(列*1 + index*1)"
   ]
  },
  {
   "cell_type": "code",
   "execution_count": null,
   "metadata": {},
   "outputs": [],
   "source": [
    "df[  \"彦根\"  ].plot(figsize=(20,4)); # 行末の ; は出力の抑制をしているだけ。消して実行すると余計なものが見える"
   ]
  },
  {
   "cell_type": "code",
   "execution_count": null,
   "metadata": {},
   "outputs": [],
   "source": [
    "df[   [\"彦根\"]   ]  # 最初はハマるが、リストで選択すると、複数列と判断されるので、 1列なのにSeriesではなく、 DataFrameになる\n",
    "# 大げさな空白は分かりやすさのため"
   ]
  },
  {
   "cell_type": "code",
   "execution_count": null,
   "metadata": {},
   "outputs": [],
   "source": [
    "df[   [\"彦根\"]   ].plot(figsize=(20,4));  # 行末の ; は出力の抑制をしているだけ。消して実行すると余計なものが見える"
   ]
  },
  {
   "cell_type": "markdown",
   "metadata": {},
   "source": [
    "# x軸を日付にしたグラフが見たい！"
   ]
  },
  {
   "cell_type": "markdown",
   "metadata": {},
   "source": [
    "\n",
    "データを見ると、 **datetimeに必要な日付要素が、バラバラの列に格納されている（レアなデータ）**  \n",
    "    \n",
    "for文で横一行づつ取得して、　年・月・日・時をまとめる？  \n",
    "→ これは**行単位**での演算で、pandasの得意とする処理ではない。  \n",
    "**かなり遅くなる**ので最終手段にする。\n",
    "    "
   ]
  },
  {
   "cell_type": "markdown",
   "metadata": {},
   "source": [
    "#### pandasの得意とする処理：列単位での演算（ df[ \"大津\" ] + df[ \"京都\" ] など ）\n",
    "\n",
    "<br>\n",
    "\n",
    "---\n"
   ]
  },
  {
   "cell_type": "markdown",
   "metadata": {},
   "source": [
    "<br>\n",
    "\n",
    "### 日付データを得るために2つのパターンを出す。後述するが、 pd.to_datetime という関数を使う。\n",
    "\n",
    "1. 最初から各列をstringに変換してから、連結して日付をつくる\n",
    "2. できるだけstringを使わずに連結し、最後だけstringに変換して日付をつくる"
   ]
  },
  {
   "cell_type": "markdown",
   "metadata": {},
   "source": [
    "# パターン1：最初から各列をstringに変換してから、連結して日付をつくる"
   ]
  },
  {
   "cell_type": "markdown",
   "metadata": {},
   "source": [
    "いつものpythonの文字列連結のノリでやると・・・"
   ]
  },
  {
   "cell_type": "code",
   "execution_count": null,
   "metadata": {},
   "outputs": [],
   "source": [
    "\"A\" + \"B\" + \"C\"*3"
   ]
  },
  {
   "cell_type": "code",
   "execution_count": null,
   "metadata": {},
   "outputs": [],
   "source": [
    "df[\"年\"]+\"/\"+df[\"月\"]+\"/\"+df[\"日\"]+\"/\"+df[\"時\"]  # Error"
   ]
  },
  {
   "cell_type": "markdown",
   "metadata": {},
   "source": [
    "## **pd.read_XXX() したら、まず最初にデータの型(dtype)** を確認する\n",
    "\n",
    "#### pandas で読み込んだら、まずは各列の型を見ること！\n",
    "#### 希望的観測で、きっとこの型だろう！と思い込んでいると、あとあと困る・・・"
   ]
  },
  {
   "cell_type": "code",
   "execution_count": null,
   "metadata": {},
   "outputs": [],
   "source": [
    "df[\"年\"].dtype, df[\"月\"].dtype,df[\"日\"].dtype,df[\"時\"].dtype,"
   ]
  },
  {
   "cell_type": "code",
   "execution_count": null,
   "metadata": {},
   "outputs": [],
   "source": [
    "df.dtypes # めんどいならこっち"
   ]
  },
  {
   "cell_type": "code",
   "execution_count": null,
   "metadata": {},
   "outputs": [],
   "source": [
    "df.iloc[:,:5].dtypes # ilocを利用する"
   ]
  },
  {
   "cell_type": "markdown",
   "metadata": {},
   "source": [
    "int (数値)として読み込まれていたので、string に**キャスト（型の変換）** してからやってみる  \n",
    "キャストは [astype](https://pandas.pydata.org/pandas-docs/stable/reference/api/pandas.Series.astype.html)\n"
   ]
  },
  {
   "cell_type": "code",
   "execution_count": null,
   "metadata": {},
   "outputs": [],
   "source": [
    "df[\"年\"].head(1)  # int64"
   ]
  },
  {
   "cell_type": "code",
   "execution_count": null,
   "metadata": {},
   "outputs": [],
   "source": [
    "df[\"年\"].astype(str).head(1)  # object"
   ]
  },
  {
   "cell_type": "markdown",
   "metadata": {},
   "source": [
    "<br>\n",
    "\n",
    "**strとintの見た目が同じなので分かりにくい**  \n",
    "( dtype: object になっている )\n",
    "\n",
    "floatなら小数点が付くので分かりやすい"
   ]
  },
  {
   "cell_type": "code",
   "execution_count": null,
   "metadata": {},
   "outputs": [],
   "source": [
    "df[\"年\"].astype(float).head(1)  # float64  .0 が付いている"
   ]
  },
  {
   "cell_type": "markdown",
   "metadata": {},
   "source": [
    "### 文字列に変換したあとなら、あとはpandasが連結してくれる。 pandas 偉い。"
   ]
  },
  {
   "cell_type": "code",
   "execution_count": null,
   "metadata": {},
   "outputs": [],
   "source": [
    "str_concat = df[\"年\"].astype(str)+\"/\"+df[\"月\"].astype(str)+\"/\"+df[\"日\"].astype(str)+\"/\"+df[\"時\"].astype(str)\n",
    "str_concat.tail(3)"
   ]
  },
  {
   "cell_type": "markdown",
   "metadata": {},
   "source": [
    "<br>\n",
    "なんとかそれっぽくなった"
   ]
  },
  {
   "cell_type": "markdown",
   "metadata": {},
   "source": [
    "# datetime型として読み込む [pd.to_datetime](https://pandas.pydata.org/pandas-docs/stable/reference/api/pandas.to_datetime.html)\n",
    "\n",
    "とりあえず突っ込む"
   ]
  },
  {
   "cell_type": "code",
   "execution_count": null,
   "metadata": {},
   "outputs": [],
   "source": [
    "pd.to_datetime(str_concat)  # Error"
   ]
  },
  {
   "cell_type": "markdown",
   "metadata": {},
   "source": [
    "\"年月日時をスラッシュ区切り\" という特殊なフォーマットなので、読み取り方を教えてあげる  \n",
    "\n",
    "**format** オプション \n",
    "https://docs.python.org/ja/3.7/library/datetime.html#strftime-and-strptime-behavior\n",
    "\n",
    "**%m(月) と %M(分) に注意**  \n",
    "\n",
    "よく使うものは以下  \n",
    "%y\t西暦下2桁。\t00, 01, ..., 99\t \n",
    "%Y\t西暦4桁 \t 2013, 2014, ..., 9998, 9999\t(2)\n",
    "%m\t0埋めした月。\t01, 02, ..., 12\t \n",
    "\n",
    "%d\t0埋めした10進数で表記した月中の日にち。\t01, 02, ..., 31\t \n",
    "%H\t0埋めした10進数で表記した時 (24時間表記)。\t00, 01, ..., 23\t \n",
    "%M\t0埋めした10進数で表記した分。\t00, 01, ..., 59\t \n",
    "%S\t0埋めした10進数で表記した秒。\t00, 01, ..., 59\t(4)\n",
    "%f\t10進数で表記したマイクロ秒 (左側から0埋めされます)。\t000000, 000001, ..., 999999\t(5)\n",
    "\n"
   ]
  },
  {
   "cell_type": "code",
   "execution_count": null,
   "metadata": {},
   "outputs": [],
   "source": [
    "pd.to_datetime(str_concat, format=\"%Y/%m/%d/%H\")  # Error"
   ]
  },
  {
   "cell_type": "markdown",
   "metadata": {},
   "source": [
    "<br>\n",
    "<br>\n",
    "<br>\n",
    "\n",
    "### **ValueError: unconverted data remains: 4** とでたので調べると24時が怪しい  \n",
    "\n",
    "<br>\n",
    "<br>\n",
    "<br>\n",
    "そういえば、、、\n",
    "<br>\n",
    "\n",
    "%H のとり得る範囲 :  **00**, 01, ..., **23**"
   ]
  },
  {
   "cell_type": "code",
   "execution_count": null,
   "metadata": {},
   "outputs": [],
   "source": [
    "df[\"時_0_23\"] = df[\"時\"]-1"
   ]
  },
  {
   "cell_type": "markdown",
   "metadata": {},
   "source": [
    "### df\\[\"時\"\\] に上書きしない理由\n",
    "df\\[ \"時\" \\] = df\\[ \"時\" \\] - 1 のように、\"時\" 列に上書きもできるが、ミスで複数回実行してしまった場合に、結果が変わり原因の特定に苦労しかねない。(今回のケースなら-1になってエラーが出るから気付けるが。)  \n",
    "\n",
    "fillna() など、複数回実行しても結果が変わらない（=冪等:べきとう）操作なら上書きしてもOK（inplace というオプションもあるくらいなので）"
   ]
  },
  {
   "cell_type": "code",
   "execution_count": null,
   "metadata": {},
   "outputs": [],
   "source": [
    "str_concat_h0_23 = df[\"年\"].astype(str)+\"/\"+df[\"月\"].astype(str)+\"/\"+df[\"日\"].astype(str)+\"/\"+df[\"時_0_23\"].astype(str)\n",
    "str_concat_h0_23.tail(3)"
   ]
  },
  {
   "cell_type": "code",
   "execution_count": null,
   "metadata": {},
   "outputs": [],
   "source": [
    "pd.to_datetime(str_concat_h0_23, format=\"%Y/%m/%d/%H\")"
   ]
  },
  {
   "cell_type": "code",
   "execution_count": null,
   "metadata": {},
   "outputs": [],
   "source": [
    "df[\"date_hour\"] = pd.to_datetime(str_concat_h0_23, format=\"%Y/%m/%d/%H\")"
   ]
  },
  {
   "cell_type": "markdown",
   "metadata": {},
   "source": [
    "無事にdatetime型にパースできた\n",
    "## パターン1終わり"
   ]
  },
  {
   "cell_type": "markdown",
   "metadata": {},
   "source": [
    "<br>\n",
    "<br>\n",
    "<br>\n",
    "\n",
    "# パターン2：できるだけstringを使わずに連結し、最後だけstringに変換して日付をつくる"
   ]
  },
  {
   "cell_type": "markdown",
   "metadata": {},
   "source": [
    "このくらいのデータなら正直変わらんけど、）百万行超えるくらいのデータになると、stringを使った処理がとても遅い！  だからintのままいじりたい！<BR>\n",
    "groupbyなどで、keyを **string → int** にするだけで　**10倍速くこともよくある**"
   ]
  },
  {
   "cell_type": "markdown",
   "metadata": {},
   "source": [
    "int で無理矢理やる"
   ]
  },
  {
   "cell_type": "code",
   "execution_count": null,
   "metadata": {},
   "outputs": [],
   "source": [
    "df[\"date_int\"] = df[\"年\"]*100*100*100 + df[\"月\"]*100*100 + df[\"日\"]*100 + df[\"時\"]  # stringみたいに / で区切れないので10の倍数で位をずらす"
   ]
  },
  {
   "cell_type": "code",
   "execution_count": null,
   "metadata": {},
   "outputs": [],
   "source": [
    "pd.to_datetime(df[\"date_int\"],format=\"%Y%m%d%H\")  # /が無くなっている"
   ]
  },
  {
   "cell_type": "markdown",
   "metadata": {},
   "source": [
    "---\n",
    "公式docを見よう\n",
    "https://pandas.pydata.org/pandas-docs/stable/reference/api/pandas.to_datetime.html\n",
    "\n",
    "int は想定外らしいのでキャストする  \n",
    "objectにしてみる"
   ]
  },
  {
   "cell_type": "code",
   "execution_count": null,
   "metadata": {},
   "outputs": [],
   "source": [
    "pd.to_datetime(df[\"date_int\"].astype(\"O\"),format=\"%Y%m%d%H\")  # Error"
   ]
  },
  {
   "cell_type": "code",
   "execution_count": null,
   "metadata": {},
   "outputs": [],
   "source": [
    "e=df[\"date_int\"].astype(\"O\")\n",
    "e[0],type(e[0]) # intのままだった"
   ]
  },
  {
   "cell_type": "markdown",
   "metadata": {},
   "source": [
    "object になっていたが、個別では intのままだったのでダメ  \n",
    "strを試す"
   ]
  },
  {
   "cell_type": "code",
   "execution_count": null,
   "metadata": {},
   "outputs": [],
   "source": [
    "e=df[\"date_int\"].astype(str)\n",
    "e[0],type(e[0]) # 普通にstrで良かった"
   ]
  },
  {
   "cell_type": "code",
   "execution_count": null,
   "metadata": {},
   "outputs": [],
   "source": [
    "pd.to_datetime(df[\"date_int\"].astype(str),format=\"%Y%m%d%H\")  # Error"
   ]
  },
  {
   "cell_type": "markdown",
   "metadata": {},
   "source": [
    "---\n",
    "\n",
    "1-24時ではパースできません問題  \n",
    "\n",
    "1引いて出直します"
   ]
  },
  {
   "cell_type": "markdown",
   "metadata": {},
   "source": []
  },
  {
   "cell_type": "code",
   "execution_count": null,
   "metadata": {},
   "outputs": [],
   "source": [
    "df[\"時_0_23\"] = df[\"時\"]-1\n",
    "df[\"時_0_23\"].tail()"
   ]
  },
  {
   "cell_type": "code",
   "execution_count": null,
   "metadata": {},
   "outputs": [],
   "source": [
    "df[\"date_str\"] = (df[\"年\"]*100*100*100 + df[\"月\"]*100*100 +df[\"日\"]*100+df[\"時_0_23\"]).astype(str)"
   ]
  },
  {
   "cell_type": "code",
   "execution_count": null,
   "metadata": {},
   "outputs": [],
   "source": [
    "df[\"date_hour\"] = pd.to_datetime(df[\"date_str\"], format=\"%Y%m%d%H\")\n",
    "df[\"date_hour\"].head()"
   ]
  },
  {
   "cell_type": "markdown",
   "metadata": {},
   "source": [
    "## パターン2終わり"
   ]
  },
  {
   "cell_type": "markdown",
   "metadata": {},
   "source": [
    "<br>\n",
    "<br>\n",
    "<br>\n",
    "<br>\n",
    "<br>\n",
    "<br>\n",
    "<br>\n",
    "<br>\n",
    "<br>\n",
    "\n",
    "# 以上で日付(datetime) のパース完了\n",
    "\n",
    "---\n"
   ]
  },
  {
   "cell_type": "markdown",
   "metadata": {},
   "source": [
    "# index を datetime に変える"
   ]
  },
  {
   "cell_type": "code",
   "execution_count": null,
   "metadata": {},
   "outputs": [],
   "source": [
    "df.head(3)"
   ]
  },
  {
   "cell_type": "code",
   "execution_count": null,
   "metadata": {},
   "outputs": [],
   "source": [
    "df.index"
   ]
  },
  {
   "cell_type": "markdown",
   "metadata": {},
   "source": [
    "今のindexは 0からの単純な整数値"
   ]
  },
  {
   "cell_type": "markdown",
   "metadata": {},
   "source": [
    "indexを変えるには、 set_index もしくは df.index に直接代入すればよい"
   ]
  },
  {
   "cell_type": "code",
   "execution_count": null,
   "metadata": {},
   "outputs": [],
   "source": [
    "df.set_index(\"date_hour\", inplace=True)\n",
    "df.index"
   ]
  },
  {
   "cell_type": "code",
   "execution_count": null,
   "metadata": {},
   "outputs": [],
   "source": [
    "df.head(2)"
   ]
  },
  {
   "cell_type": "markdown",
   "metadata": {},
   "source": [
    "邪魔な列(column)を消す"
   ]
  },
  {
   "cell_type": "code",
   "execution_count": null,
   "metadata": {},
   "outputs": [],
   "source": [
    "df.columns"
   ]
  },
  {
   "cell_type": "code",
   "execution_count": null,
   "metadata": {},
   "outputs": [],
   "source": [
    "df.drop(columns=[\"date_int\",\"date_str\",\"年\",\"月\",\"日\",\"時\",\"時_0_23\"], inplace=True) # inplaceの方がメモリを食わないけど、\n",
    "#df = df.drop(columns=[\"date_int\",\"date_str\",\"年\",\"月\",\"日\",\"時\",\"時_0_23\"]) # こっちでも全然良い\n",
    "df.head(3)"
   ]
  },
  {
   "cell_type": "markdown",
   "metadata": {},
   "source": [
    "# やっとプロット"
   ]
  },
  {
   "cell_type": "code",
   "execution_count": null,
   "metadata": {},
   "outputs": [],
   "source": [
    "df.plot();"
   ]
  },
  {
   "cell_type": "markdown",
   "metadata": {},
   "source": [
    "<br>\n",
    "\n",
    "## 豆腐問題 爆誕\n",
    "---"
   ]
  },
  {
   "cell_type": "markdown",
   "metadata": {},
   "source": [
    "japanize_matplotlibで・・・"
   ]
  },
  {
   "cell_type": "code",
   "execution_count": null,
   "metadata": {},
   "outputs": [],
   "source": [
    "import japanize_matplotlib"
   ]
  },
  {
   "cell_type": "code",
   "execution_count": null,
   "metadata": {},
   "outputs": [],
   "source": [
    "df.plot();"
   ]
  },
  {
   "cell_type": "markdown",
   "metadata": {},
   "source": [
    "# 豆腐消えた！（たまに消えない環境も。。。）"
   ]
  }
 ],
 "metadata": {
  "kernelspec": {
   "display_name": "Python 3",
   "language": "python",
   "name": "python3"
  },
  "language_info": {
   "codemirror_mode": {
    "name": "ipython",
    "version": 3
   },
   "file_extension": ".py",
   "mimetype": "text/x-python",
   "name": "python",
   "nbconvert_exporter": "python",
   "pygments_lexer": "ipython3",
   "version": "3.7.1"
  }
 },
 "nbformat": 4,
 "nbformat_minor": 2
}
