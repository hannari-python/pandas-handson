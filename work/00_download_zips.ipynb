{
 "cells": [
  {
   "cell_type": "markdown",
   "metadata": {},
   "source": [
    "# データ元"
   ]
  },
  {
   "cell_type": "markdown",
   "metadata": {},
   "source": [
    "## **花粉ライブラリ**\n",
    "4. 「はなこさん」による過去データのダウンロード<BR> \n",
    "http://kafun.taiki.go.jp/library.html#4    "
   ]
  },
  {
   "cell_type": "markdown",
   "metadata": {},
   "source": [
    "zipのURL例<BR>\n",
    "http://kafun.taiki.go.jp/DownLoadData/2008_kansai.zip"
   ]
  },
  {
   "cell_type": "markdown",
   "metadata": {},
   "source": [
    "# zipをダウンロード"
   ]
  },
  {
   "cell_type": "code",
   "execution_count": null,
   "metadata": {},
   "outputs": [],
   "source": [
    "import requests\n",
    "year=2008\n",
    "region = \"kansai\"\n",
    "resp = requests.get(\"http://kafun.taiki.go.jp/DownLoadData/2008_kansai.zip\")\n",
    "resp.raise_for_status()"
   ]
  },
  {
   "cell_type": "markdown",
   "metadata": {},
   "source": [
    "# zip 展開"
   ]
  },
  {
   "cell_type": "code",
   "execution_count": null,
   "metadata": {},
   "outputs": [],
   "source": [
    "from io import BytesIO\n",
    "from zipfile import ZipFile\n",
    "zipfile = ZipFile(BytesIO(resp.content))"
   ]
  },
  {
   "cell_type": "code",
   "execution_count": null,
   "metadata": {},
   "outputs": [],
   "source": [
    "ls ../../../data  # 作業フォルダによって ../ の数が違うみたい"
   ]
  },
  {
   "cell_type": "code",
   "execution_count": null,
   "metadata": {},
   "outputs": [],
   "source": [
    "zipfile.extractall(\"../../../data\") # 作業フォルダによって ../ の数が違うみたい"
   ]
  },
  {
   "cell_type": "markdown",
   "metadata": {},
   "source": [
    "# あとは適当に落とす"
   ]
  },
  {
   "cell_type": "code",
   "execution_count": null,
   "metadata": {},
   "outputs": [],
   "source": [
    "import time\n",
    "for region in [\"kansai\"]:\n",
    "    for year in range(2008,2018+1):\n",
    "        url = \"http://kafun.taiki.go.jp/DownLoadData/{}_{}.zip\".format(year,region)\n",
    "        resp = requests.get(url)\n",
    "        resp.raise_for_status()\n",
    "        zipfile = ZipFile(BytesIO(resp.content))\n",
    "        zipfile.extractall(\"../../../data\")\n",
    "        print(\"done:\", url)\n",
    "        time.sleep(1)\n",
    "        "
   ]
  },
  {
   "cell_type": "markdown",
   "metadata": {},
   "source": [
    "---\n",
    "できたかを確認"
   ]
  },
  {
   "cell_type": "code",
   "execution_count": null,
   "metadata": {},
   "outputs": [],
   "source": [
    "ls ../../../data # 作業フォルダによって ../ の数が違うみたい"
   ]
  },
  {
   "cell_type": "markdown",
   "metadata": {},
   "source": [
    "<BR>\n",
    "2018が無い？<BR>\n",
    "    <BR>\n",
    "2018だけおかしいので適当にフォルダを作ってあげる。2008年の担当者さん、頼むよ〜"
   ]
  },
  {
   "cell_type": "markdown",
   "metadata": {},
   "source": [
    "以下のコマンドは Windowsは使えないかも。。。"
   ]
  },
  {
   "cell_type": "code",
   "execution_count": null,
   "metadata": {},
   "outputs": [],
   "source": [
    "mkdir ../../../data/2018_kansai    # 相対パスが違うかも ../ の調整でいけるはず・・・"
   ]
  },
  {
   "cell_type": "code",
   "execution_count": null,
   "metadata": {},
   "outputs": [],
   "source": [
    "mv ../../../data/*.xlsx ../../../data/2018_kansai  # 相対パスが違うかも ../ の調整でいけるはず・・・"
   ]
  },
  {
   "cell_type": "code",
   "execution_count": null,
   "metadata": {},
   "outputs": [],
   "source": [
    "ls ../../../data/2018_kansai/"
   ]
  },
  {
   "cell_type": "code",
   "execution_count": null,
   "metadata": {},
   "outputs": [],
   "source": [
    "ls ../../../data"
   ]
  },
  {
   "cell_type": "code",
   "execution_count": null,
   "metadata": {},
   "outputs": [],
   "source": [
    "pd.read_excel(\"../../../data/2008_kansai/AMeDAS2008(è╓É╝).xls\", sheet_name=\"降水量(mm)\")  # 相対パスが違うかも ../ の調整でいけるはず・・・"
   ]
  },
  {
   "cell_type": "code",
   "execution_count": null,
   "metadata": {},
   "outputs": [],
   "source": [
    "pd.read_excel(\"../../../data/2008_kansai/AMeDAS2008(è╓É╝).xls\", sheet_name=\"気温(℃)\")  # 相対パスが違うかも ../ の調整でいけるはず・・・"
   ]
  },
  {
   "cell_type": "code",
   "execution_count": null,
   "metadata": {},
   "outputs": [],
   "source": [
    "pd.read_excel(\"../../../data/2008_kansai/ë╘ò▓âfü[â^2008(è╓É╝).xls\")  # 相対パスが違うかも ../ の調整でいけるはず・・・"
   ]
  },
  {
   "cell_type": "markdown",
   "metadata": {},
   "source": [
    "<br>\n",
    "正しいかどうかはエクセルなどで確認！"
   ]
  },
  {
   "cell_type": "code",
   "execution_count": null,
   "metadata": {},
   "outputs": [],
   "source": []
  },
  {
   "cell_type": "code",
   "execution_count": null,
   "metadata": {},
   "outputs": [],
   "source": []
  }
 ],
 "metadata": {
  "kernelspec": {
   "display_name": "Python 3",
   "language": "python",
   "name": "python3"
  },
  "language_info": {
   "codemirror_mode": {
    "name": "ipython",
    "version": 3
   },
   "file_extension": ".py",
   "mimetype": "text/x-python",
   "name": "python",
   "nbconvert_exporter": "python",
   "pygments_lexer": "ipython3",
   "version": "3.7.1"
  }
 },
 "nbformat": 4,
 "nbformat_minor": 2
}
