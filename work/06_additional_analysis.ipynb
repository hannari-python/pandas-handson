{
 "cells": [
  {
   "cell_type": "markdown",
   "metadata": {},
   "source": [
    "**handson用資料としての注意点**\n",
    "\n",
    "普通、同じセル上で何度も試行錯誤するので、最終的に上手くいったセルしか残らず、失敗したセルは残りませんし、わざわざ残しません。\n",
    "\n",
    "今回はhandson用に 試行・思考過程を残したいと思い、エラーやミスが出ても下のセルに進んで処理を実行するようにしています。\n",
    "\n",
    "notebookのセル単位の実行ができるからこそのやり方かもしれません。良い。\n",
    "\n",
    "（下のセルから文は常体で書きます。）\n",
    "\n",
    "kunai (@jdgthjdg)\n",
    "\n",
    "---\n"
   ]
  },
  {
   "cell_type": "markdown",
   "metadata": {},
   "source": [
    "# 今までの復習 + 追加の分析ネタ"
   ]
  },
  {
   "cell_type": "markdown",
   "metadata": {},
   "source": [
    "---\n",
    "\n",
    "# AMeDASのデータを使って、天候との関連があるかを知りたい\n",
    "\n",
    "* AMeDASのエクセルファイルも同様の前処理が必要  \n",
    "* シートも複数ある\n",
    "\n",
    "<br>\n",
    "\n",
    "例\n",
    "1. 降水量と花粉\n",
    "1. 気温と花粉\n",
    "\n",
    "---\n"
   ]
  },
  {
   "cell_type": "code",
   "execution_count": 1,
   "metadata": {},
   "outputs": [],
   "source": [
    "%matplotlib inline\n",
    "import matplotlib.pyplot as plt\n",
    "import japanize_matplotlib\n",
    "import pandas as pd\n",
    "import numpy as np\n",
    "import qgrid\n",
    "#設定でDataFrameなどが長く表示されないようにします（画面領域の消費を抑えてhandsonをしやすくするため）\n",
    "# 長い場合の途中の省略表示(...)を出す閾値の設定（折り返しとは無関係）\n",
    "pd.set_option('max_rows',10)\n",
    "pd.set_option('max_columns',20) # これを超えたら全部は表示しない。 A B C ... X Y Z のように途中を省く。"
   ]
  },
  {
   "cell_type": "code",
   "execution_count": 2,
   "metadata": {},
   "outputs": [
    {
     "data": {
      "text/html": [
       "<div>\n",
       "<style scoped>\n",
       "    .dataframe tbody tr th:only-of-type {\n",
       "        vertical-align: middle;\n",
       "    }\n",
       "\n",
       "    .dataframe tbody tr th {\n",
       "        vertical-align: top;\n",
       "    }\n",
       "\n",
       "    .dataframe thead th {\n",
       "        text-align: right;\n",
       "    }\n",
       "</style>\n",
       "<table border=\"1\" class=\"dataframe\">\n",
       "  <thead>\n",
       "    <tr style=\"text-align: right;\">\n",
       "      <th></th>\n",
       "      <th>彦根市役所</th>\n",
       "      <th>滋賀県琵琶湖・環境科学研究センター</th>\n",
       "      <th>京都府立医科大学</th>\n",
       "      <th>京都府中丹東保健所</th>\n",
       "      <th>京都市右京区役所京北合同庁舎</th>\n",
       "      <th>豊中市役所第一庁舎</th>\n",
       "      <th>兵庫県立健康環境科学研究センター</th>\n",
       "      <th>兵庫県篠山庁舎</th>\n",
       "      <th>奈良県吉野保健所</th>\n",
       "      <th>和歌山地方気象台</th>\n",
       "      <th>和歌山県西牟婁振興局庁舎</th>\n",
       "    </tr>\n",
       "    <tr>\n",
       "      <th>date_hour</th>\n",
       "      <th></th>\n",
       "      <th></th>\n",
       "      <th></th>\n",
       "      <th></th>\n",
       "      <th></th>\n",
       "      <th></th>\n",
       "      <th></th>\n",
       "      <th></th>\n",
       "      <th></th>\n",
       "      <th></th>\n",
       "      <th></th>\n",
       "    </tr>\n",
       "  </thead>\n",
       "  <tbody>\n",
       "    <tr>\n",
       "      <th>2008-02-01 00:00:00</th>\n",
       "      <td>0.0</td>\n",
       "      <td>4.0</td>\n",
       "      <td>0.0</td>\n",
       "      <td>0.0</td>\n",
       "      <td>0.0</td>\n",
       "      <td>0.0</td>\n",
       "      <td>0.0</td>\n",
       "      <td>0.0</td>\n",
       "      <td>0.0</td>\n",
       "      <td>0.0</td>\n",
       "      <td>0.0</td>\n",
       "    </tr>\n",
       "    <tr>\n",
       "      <th>2008-02-01 01:00:00</th>\n",
       "      <td>0.0</td>\n",
       "      <td>0.0</td>\n",
       "      <td>0.0</td>\n",
       "      <td>0.0</td>\n",
       "      <td>0.0</td>\n",
       "      <td>0.0</td>\n",
       "      <td>4.0</td>\n",
       "      <td>0.0</td>\n",
       "      <td>0.0</td>\n",
       "      <td>8.0</td>\n",
       "      <td>0.0</td>\n",
       "    </tr>\n",
       "  </tbody>\n",
       "</table>\n",
       "</div>"
      ],
      "text/plain": [
       "                     彦根市役所  滋賀県琵琶湖・環境科学研究センター  京都府立医科大学  京都府中丹東保健所  \\\n",
       "date_hour                                                            \n",
       "2008-02-01 00:00:00    0.0                4.0       0.0        0.0   \n",
       "2008-02-01 01:00:00    0.0                0.0       0.0        0.0   \n",
       "\n",
       "                     京都市右京区役所京北合同庁舎  豊中市役所第一庁舎  兵庫県立健康環境科学研究センター  兵庫県篠山庁舎  \\\n",
       "date_hour                                                                   \n",
       "2008-02-01 00:00:00             0.0        0.0               0.0      0.0   \n",
       "2008-02-01 01:00:00             0.0        0.0               4.0      0.0   \n",
       "\n",
       "                     奈良県吉野保健所  和歌山地方気象台  和歌山県西牟婁振興局庁舎  \n",
       "date_hour                                              \n",
       "2008-02-01 00:00:00       0.0       0.0           0.0  \n",
       "2008-02-01 01:00:00       0.0       8.0           0.0  "
      ]
     },
     "execution_count": 2,
     "metadata": {},
     "output_type": "execute_result"
    }
   ],
   "source": [
    "kafun = pd.read_pickle(\"kafun04.pkl\")\n",
    "kafun.head(2)"
   ]
  },
  {
   "cell_type": "markdown",
   "metadata": {},
   "source": [
    "↓ ここからは01〜05のipynbファイルを見直しながら自由に記述！\n",
    "---\n"
   ]
  },
  {
   "cell_type": "code",
   "execution_count": null,
   "metadata": {},
   "outputs": [],
   "source": []
  },
  {
   "cell_type": "code",
   "execution_count": null,
   "metadata": {},
   "outputs": [],
   "source": []
  },
  {
   "cell_type": "code",
   "execution_count": null,
   "metadata": {},
   "outputs": [],
   "source": []
  }
 ],
 "metadata": {
  "kernelspec": {
   "display_name": "Python 3",
   "language": "python",
   "name": "python3"
  },
  "language_info": {
   "codemirror_mode": {
    "name": "ipython",
    "version": 3
   },
   "file_extension": ".py",
   "mimetype": "text/x-python",
   "name": "python",
   "nbconvert_exporter": "python",
   "pygments_lexer": "ipython3",
   "version": "3.7.1"
  }
 },
 "nbformat": 4,
 "nbformat_minor": 2
}
